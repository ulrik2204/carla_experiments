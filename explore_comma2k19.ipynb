{
 "cells": [
  {
   "cell_type": "code",
   "execution_count": 40,
   "metadata": {},
   "outputs": [],
   "source": [
    "import numpy as np \n",
    "import pandas as pd \n",
    "import matplotlib.pyplot as plt\n",
    "from pathlib import Path\n",
    "import cv2"
   ]
  },
  {
   "cell_type": "code",
   "execution_count": 53,
   "metadata": {},
   "outputs": [],
   "source": [
    "segment_path = Path(\"../../datasets/comma2k19/Chunk_1/b0c9d2329ad1606b|2018-08-02--08-34-47/40\")\n",
    "segment_path2 = Path(\"../../datasets/comma2k19/Chunk_1/b0c9d2329ad1606b|2018-08-02--08-34-47/39\")\n",
    "segment_path3 = Path(\"../../datasets/comma2k19/Chunk_1/b0c9d2329ad1606b|2018-08-02--08-34-47/29\")\n",
    "segment_path4 = Path(\"../../datasets/comma2k19/Chunk_1/b0c9d2329ad1606b|2018-07-27--06-50-48/14\")\n"
   ]
  },
  {
   "cell_type": "markdown",
   "metadata": {},
   "source": [
    "There are 1200 items in each of the folders inside global_pose, one for each frame in the video. "
   ]
  },
  {
   "cell_type": "code",
   "execution_count": 64,
   "metadata": {},
   "outputs": [
    {
     "data": {
      "text/plain": [
       "1200"
      ]
     },
     "execution_count": 64,
     "metadata": {},
     "output_type": "execute_result"
    }
   ],
   "source": [
    "gps_times = np.load(segment_path / \"global_pose/frame_gps_times\")\n",
    "len(gps_times)"
   ]
  },
  {
   "cell_type": "code",
   "execution_count": 65,
   "metadata": {},
   "outputs": [
    {
     "data": {
      "text/plain": [
       "1200"
      ]
     },
     "execution_count": 65,
     "metadata": {},
     "output_type": "execute_result"
    }
   ],
   "source": [
    "orientations = np.load(segment_path / \"global_pose/frame_orientations\")\n",
    "len(orientations)"
   ]
  },
  {
   "cell_type": "markdown",
   "metadata": {},
   "source": [
    "What format is this on? Rotation in CARLA is pitch, yaw, roll. Is this the same? What is the fourth value?\n",
    "\n",
    "global orientations as quaternion needed to\n",
    "                      rotate from ECEF  frame to local camera frame\n",
    "                      defined as [forward, right, down] (hamilton quaternion!!!!)"
   ]
  },
  {
   "cell_type": "markdown",
   "metadata": {},
   "source": [
    "A quaternion is a coordinate on the form [w, x, y, z] where w is real part and representing the amount of rotation (I think?) and (x, y, z) is the vector representing the axis of rotation in 3D space. Here, x is \"forward\", y is \"right\" and z is \"down\"."
   ]
  },
  {
   "cell_type": "code",
   "execution_count": 72,
   "metadata": {},
   "outputs": [
    {
     "data": {
      "text/plain": [
       "array([[ 0.21243875, -0.80302968, -0.43522125, -0.34726874],\n",
       "       [ 0.21230022, -0.80305676, -0.43500007, -0.34756783],\n",
       "       [ 0.21228429, -0.80303141, -0.43482749, -0.34785196],\n",
       "       ...,\n",
       "       [ 0.22137891, -0.79545387, -0.42532217, -0.37060162],\n",
       "       [ 0.22115694, -0.79572304, -0.42520901, -0.37028604],\n",
       "       [ 0.22121323, -0.79582271, -0.425087  , -0.37017829]])"
      ]
     },
     "execution_count": 72,
     "metadata": {},
     "output_type": "execute_result"
    }
   ],
   "source": [
    "orientations"
   ]
  },
  {
   "cell_type": "markdown",
   "metadata": {},
   "source": [
    "These are the waypoints in ECEF coordinates."
   ]
  },
  {
   "cell_type": "code",
   "execution_count": 68,
   "metadata": {},
   "outputs": [
    {
     "data": {
      "text/plain": [
       "array([[-2712087.51680896, -4261670.05595519,  3881014.4539217 ],\n",
       "       [-2712087.3712095 , -4261669.85464656,  3881014.76488791],\n",
       "       [-2712087.22355988, -4261669.65116858,  3881015.07854078],\n",
       "       ...,\n",
       "       [-2711723.08011481, -4261177.54831335,  3881817.54470798],\n",
       "       [-2711722.87567608, -4261177.28280163,  3881818.02584841],\n",
       "       [-2711722.67333332, -4261177.02108768,  3881818.50131921]])"
      ]
     },
     "execution_count": 68,
     "metadata": {},
     "output_type": "execute_result"
    }
   ],
   "source": [
    "\n",
    "positions = np.load(segment_path / \"global_pose/frame_positions\")\n",
    "positions"
   ]
  },
  {
   "cell_type": "code",
   "execution_count": 67,
   "metadata": {},
   "outputs": [
    {
     "data": {
      "text/plain": [
       "1200"
      ]
     },
     "execution_count": 67,
     "metadata": {},
     "output_type": "execute_result"
    }
   ],
   "source": [
    "\n",
    "times = np.load(segment_path / \"global_pose/frame_times\")\n",
    "len(times)"
   ]
  },
  {
   "cell_type": "code",
   "execution_count": 76,
   "metadata": {},
   "outputs": [
    {
     "data": {
      "text/plain": [
       "array([46408.547498, 46408.597506, 46408.647488, 46408.69749 ,\n",
       "       46408.747491, 46408.797503, 46408.847508, 46408.89749 ,\n",
       "       46408.947493, 46408.997484, 46409.047488, 46409.097498,\n",
       "       46409.147488, 46409.197484, 46409.247486, 46409.297486,\n",
       "       46409.347509, 46409.397485, 46409.447482, 46409.497487,\n",
       "       46409.547494, 46409.597481, 46409.64748 , 46409.697474,\n",
       "       46409.747473, 46409.797475, 46409.847478, 46409.897476,\n",
       "       46409.947477, 46409.997482, 46410.047473, 46410.097474,\n",
       "       46410.147475, 46410.197469, 46410.247482, 46410.297469,\n",
       "       46410.347476, 46410.397469, 46410.447469, 46410.497466])"
      ]
     },
     "execution_count": 76,
     "metadata": {},
     "output_type": "execute_result"
    }
   ],
   "source": [
    "times[0: 40]"
   ]
  },
  {
   "cell_type": "markdown",
   "metadata": {},
   "source": [
    "These are in ECEF or camera m/s"
   ]
  },
  {
   "cell_type": "code",
   "execution_count": 83,
   "metadata": {},
   "outputs": [
    {
     "data": {
      "text/plain": [
       "array([[2.9047239 , 4.01603002, 6.20555644],\n",
       "       [2.94151362, 4.05735186, 6.25606847],\n",
       "       [2.9777254 , 4.09487774, 6.30539503],\n",
       "       ...,\n",
       "       [4.10014952, 5.3344189 , 9.66065472],\n",
       "       [4.06634053, 5.26615064, 9.55497136],\n",
       "       [4.01985485, 5.19355877, 9.45527469]])"
      ]
     },
     "execution_count": 83,
     "metadata": {},
     "output_type": "execute_result"
    }
   ],
   "source": [
    "\n",
    "velocities = np.load(segment_path / \"global_pose/frame_velocities\")\n",
    "velocities"
   ]
  },
  {
   "cell_type": "markdown",
   "metadata": {},
   "source": [
    "# GNSS"
   ]
  },
  {
   "cell_type": "markdown",
   "metadata": {},
   "source": [
    "GNSS is sampled at 10Hz in 60s for a total of. \n"
   ]
  },
  {
   "cell_type": "code",
   "execution_count": 57,
   "metadata": {},
   "outputs": [
    {
     "data": {
      "text/plain": [
       "30"
      ]
     },
     "execution_count": 57,
     "metadata": {},
     "output_type": "execute_result"
    }
   ],
   "source": [
    "gnss_t = np.load(segment_path / \"processed_log/GNSS/live_gnss_qcom/t\")\n",
    "gnss_t\n",
    "len(gnss_t)"
   ]
  },
  {
   "cell_type": "code",
   "execution_count": 58,
   "metadata": {},
   "outputs": [
    {
     "data": {
      "text/plain": [
       "30"
      ]
     },
     "execution_count": 58,
     "metadata": {},
     "output_type": "execute_result"
    }
   ],
   "source": [
    "gnss_value = np.load(segment_path / \"processed_log/GNSS/live_gnss_qcom/value\")\n",
    "gnss_value\n",
    "len(gnss_value)"
   ]
  },
  {
   "cell_type": "code",
   "execution_count": 61,
   "metadata": {},
   "outputs": [
    {
     "data": {
      "text/plain": [
       "579"
      ]
     },
     "execution_count": 61,
     "metadata": {},
     "output_type": "execute_result"
    }
   ],
   "source": [
    "gnss_ublox = np.load(segment_path / \"processed_log/GNSS/live_gnss_ublox/value\")\n",
    "len(gnss_ublox)"
   ]
  },
  {
   "cell_type": "markdown",
   "metadata": {},
   "source": [
    "raw_gnss_qcom seems to be like the actual gnss data per frame"
   ]
  },
  {
   "cell_type": "code",
   "execution_count": 70,
   "metadata": {},
   "outputs": [
    {
     "data": {
      "text/plain": [
       "array([ 2.00000000e+00,  2.01200000e+03,  4.04106399e+05,             nan,\n",
       "        2.33368461e+07,  7.69716366e+01, -6.14895935e+02,  8.97800064e+00,\n",
       "                   nan,             nan])"
      ]
     },
     "execution_count": 70,
     "metadata": {},
     "output_type": "execute_result"
    }
   ],
   "source": [
    "gnss_raw_qcom = np.load(segment_path / \"processed_log/GNSS/raw_gnss_qcom/value\")\n",
    "len(gnss_raw_qcom)\n",
    "gnss_raw_qcom[0]"
   ]
  },
  {
   "cell_type": "code",
   "execution_count": 63,
   "metadata": {},
   "outputs": [
    {
     "data": {
      "text/plain": [
       "9228"
      ]
     },
     "execution_count": 63,
     "metadata": {},
     "output_type": "execute_result"
    }
   ],
   "source": [
    "gnss_raw_ublox = np.load(segment_path / \"processed_log/GNSS/raw_gnss_ublox/value\")\n",
    "len(gnss_raw_ublox)"
   ]
  },
  {
   "cell_type": "markdown",
   "metadata": {},
   "source": [
    "# Frames"
   ]
  },
  {
   "cell_type": "markdown",
   "metadata": {},
   "source": [
    "So each video has 60s of video in a framerate of 20Hz, for a total of 1200 frames. \n"
   ]
  },
  {
   "cell_type": "code",
   "execution_count": 54,
   "metadata": {},
   "outputs": [],
   "source": [
    "frames = []\n",
    "video = cv2.VideoCapture(str(segment_path4 / \"video.hevc\"))\n",
    "while video.isOpened():\n",
    "    ret, frame = video.read()\n",
    "    if not ret:\n",
    "        break\n",
    "    frames.append(frame)"
   ]
  },
  {
   "cell_type": "code",
   "execution_count": 55,
   "metadata": {},
   "outputs": [
    {
     "data": {
      "text/plain": [
       "1200"
      ]
     },
     "execution_count": 55,
     "metadata": {},
     "output_type": "execute_result"
    }
   ],
   "source": [
    "len(frames)"
   ]
  },
  {
   "cell_type": "code",
   "execution_count": 56,
   "metadata": {},
   "outputs": [
    {
     "data": {
      "text/plain": [
       "array([[[ 0,  0,  9],\n",
       "        [11, 23, 35],\n",
       "        [ 6, 18, 49],\n",
       "        ...,\n",
       "        [ 2, 22,  3],\n",
       "        [ 6, 27,  0],\n",
       "        [ 7, 28,  0]],\n",
       "\n",
       "       [[ 0,  0,  9],\n",
       "        [12, 24, 36],\n",
       "        [ 6, 18, 49],\n",
       "        ...,\n",
       "        [ 3, 23,  4],\n",
       "        [ 6, 27,  0],\n",
       "        [ 7, 28,  0]],\n",
       "\n",
       "       [[ 0,  0, 11],\n",
       "        [10, 26, 40],\n",
       "        [22, 21, 46],\n",
       "        ...,\n",
       "        [ 9, 22, 11],\n",
       "        [ 8, 26,  1],\n",
       "        [ 8, 26,  1]],\n",
       "\n",
       "       ...,\n",
       "\n",
       "       [[ 4,  0,  0],\n",
       "        [ 4,  0,  0],\n",
       "        [ 0,  0,  1],\n",
       "        ...,\n",
       "        [ 9,  0,  0],\n",
       "        [ 3,  0,  1],\n",
       "        [ 3,  0,  1]],\n",
       "\n",
       "       [[ 0,  5,  0],\n",
       "        [ 5, 12,  5],\n",
       "        [ 0,  1,  0],\n",
       "        ...,\n",
       "        [40,  0,  0],\n",
       "        [12,  0, 37],\n",
       "        [15,  1, 40]],\n",
       "\n",
       "       [[ 0,  2,  0],\n",
       "        [ 5, 12,  5],\n",
       "        [ 0,  1,  0],\n",
       "        ...,\n",
       "        [42,  0,  2],\n",
       "        [ 1,  0, 26],\n",
       "        [24, 10, 49]]], dtype=uint8)"
      ]
     },
     "execution_count": 56,
     "metadata": {},
     "output_type": "execute_result"
    }
   ],
   "source": [
    "frames[0]"
   ]
  },
  {
   "cell_type": "code",
   "execution_count": null,
   "metadata": {},
   "outputs": [],
   "source": []
  }
 ],
 "metadata": {
  "kernelspec": {
   "display_name": ".venv",
   "language": "python",
   "name": "python3"
  },
  "language_info": {
   "codemirror_mode": {
    "name": "ipython",
    "version": 3
   },
   "file_extension": ".py",
   "mimetype": "text/x-python",
   "name": "python",
   "nbconvert_exporter": "python",
   "pygments_lexer": "ipython3",
   "version": "3.8.10"
  }
 },
 "nbformat": 4,
 "nbformat_minor": 2
}
